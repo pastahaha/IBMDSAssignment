{
 "cells": [
  {
   "cell_type": "markdown",
   "id": "ec822cf7-76cc-4bb8-8614-5d26931eac97",
   "metadata": {},
   "source": [
    "# Data Science Final Project"
   ]
  },
  {
   "cell_type": "markdown",
   "id": "80785de8-f02b-4b26-86b9-6ef307107097",
   "metadata": {},
   "source": [
    "## Introduction\n",
    "In this notebook, we will explore basic concepts of data science, including languages, libraries, tools, and some simple arithmetic expressions using Python. The aim is to demonstrate the fundamental skills needed to start a career in data science.\n"
   ]
  },
  {
   "cell_type": "markdown",
   "id": "5c4f40c3-4f2a-4f35-8aba-1253e8a50f4d",
   "metadata": {},
   "source": [
    "## Data Science Languages\n",
    "The following are common programming languages used in data science:\n",
    "\n",
    "- Python\n",
    "- R\n",
    "- SQL\n",
    "- Java\n",
    "- Scala\n",
    "- Julia\n"
   ]
  },
  {
   "cell_type": "markdown",
   "id": "0faad377-8a00-4c53-a9f5-fb0e6148ced3",
   "metadata": {},
   "source": [
    "## Data Science Libraries\n",
    "Here are some popular data science libraries:\n",
    "\n",
    "- Pandas (for data manipulation and analysis)\n",
    "- NumPy (for numerical computing)\n",
    "- Matplotlib (for data visualization)\n",
    "- SciPy (for scientific computing)\n",
    "- Scikit-learn (for machine learning)\n",
    "- TensorFlow (for deep learning)\n",
    "- Keras (for neural networks)\n"
   ]
  },
  {
   "cell_type": "markdown",
   "id": "5d712523-ca9e-4095-8c53-736fe9248cb7",
   "metadata": {},
   "source": [
    "## Data Science Tools\n",
    "\n",
    "| Tool          | Purpose                          |\n",
    "|---------------|----------------------------------|\n",
    "| Jupyter Notebooks | Interactive coding and documentation |\n",
    "| GitHub         | Version control and collaboration |\n",
    "| Google Colab   | Cloud-based Jupyter environment |\n",
    "| Tableau        | Data visualization tool |\n",
    "| Apache Hadoop  | Distributed storage and processing |\n",
    "| SQL            | Database management and queries |\n"
   ]
  },
  {
   "cell_type": "markdown",
   "id": "4eee40d3-43e6-4ccd-a38d-6587ab657f80",
   "metadata": {},
   "source": [
    "## Arithmetic Expression Examples\n",
    "In this section, we will demonstrate how to perform basic arithmetic operations using Python.\n"
   ]
  },
  {
   "cell_type": "code",
   "execution_count": 4,
   "id": "9757e155-da81-4d2e-a6ac-c06a783898d6",
   "metadata": {},
   "outputs": [
    {
     "data": {
      "text/plain": [
       "(50, 15)"
      ]
     },
     "execution_count": 4,
     "metadata": {},
     "output_type": "execute_result"
    }
   ],
   "source": [
    "a = 5\n",
    "b = 10\n",
    "\n",
    "# Multiplication\n",
    "multiplication_result = a * b\n",
    "\n",
    "# Addition\n",
    "addition_result = a + b\n",
    "\n",
    "multiplication_result, addition_result\n"
   ]
  },
  {
   "cell_type": "code",
   "execution_count": 5,
   "id": "4b5561f2-fefd-4c11-af9c-ddcb65602e89",
   "metadata": {},
   "outputs": [
    {
     "data": {
      "text/plain": [
       "2.5"
      ]
     },
     "execution_count": 5,
     "metadata": {},
     "output_type": "execute_result"
    }
   ],
   "source": [
    "# Convert minutes to hours\n",
    "minutes = 150\n",
    "\n",
    "# Conversion formula\n",
    "hours = minutes / 60\n",
    "\n",
    "hours\n"
   ]
  },
  {
   "cell_type": "markdown",
   "id": "9fe5bd93-b104-4e9f-adeb-026741e1a28b",
   "metadata": {},
   "source": [
    "## Objectives\n",
    "The objectives of this notebook are:\n",
    "1. To introduce basic concepts of data science.\n",
    "2. To practice using different data science tools.\n",
    "3. To demonstrate arithmetic operations in Python.\n",
    "4. To perform data manipulation and conversions.\n"
   ]
  },
  {
   "cell_type": "markdown",
   "id": "ad2ba7da-a824-4739-b64a-94caaf9672bd",
   "metadata": {},
   "source": [
    "## Author\n",
    "This notebook was created by Aditya Prashant Pashte.\n"
   ]
  },
  {
   "cell_type": "code",
   "execution_count": null,
   "id": "92573d5c-83ad-4e8c-8a0c-9d4b7ce4c384",
   "metadata": {},
   "outputs": [],
   "source": []
  }
 ],
 "metadata": {
  "kernelspec": {
   "display_name": "Python 3 (ipykernel)",
   "language": "python",
   "name": "python3"
  },
  "language_info": {
   "codemirror_mode": {
    "name": "ipython",
    "version": 3
   },
   "file_extension": ".py",
   "mimetype": "text/x-python",
   "name": "python",
   "nbconvert_exporter": "python",
   "pygments_lexer": "ipython3",
   "version": "3.12.4"
  }
 },
 "nbformat": 4,
 "nbformat_minor": 5
}
